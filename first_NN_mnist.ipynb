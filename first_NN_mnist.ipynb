{
 "cells": [
  {
   "cell_type": "code",
   "execution_count": 32,
   "metadata": {
    "collapsed": false
   },
   "outputs": [],
   "source": [
    "from keras.models import Sequential\n",
    "import numpy as np\n",
    "import pandas as pd\n",
    "from keras.utils import np_utils"
   ]
  },
  {
   "cell_type": "markdown",
   "metadata": {},
   "source": [
    "## load in mnist datasets \n",
    "Our neural-network is going to take a single vector for each training example, so we need to reshape the input so that each 28x28 image becomes a single 784 dimensional vector. We'll also scale the inputs to be in the range [0-1] rather than [0-255]"
   ]
  },
  {
   "cell_type": "code",
   "execution_count": 11,
   "metadata": {
    "collapsed": false
   },
   "outputs": [
    {
     "name": "stdout",
     "output_type": "stream",
     "text": [
      "Downloading data from https://s3.amazonaws.com/img-datasets/mnist.pkl.gz\n"
     ]
    }
   ],
   "source": [
    "from keras.datasets import mnist\n",
    "(X_train, y_train), (X_test, y_test) = mnist.load_data()"
   ]
  },
  {
   "cell_type": "code",
   "execution_count": 29,
   "metadata": {
    "collapsed": false
   },
   "outputs": [
    {
     "data": {
      "text/plain": [
       "(10000, 28, 28)"
      ]
     },
     "execution_count": 29,
     "metadata": {},
     "output_type": "execute_result"
    }
   ],
   "source": [
    "X_test.shape"
   ]
  },
  {
   "cell_type": "code",
   "execution_count": 30,
   "metadata": {
    "collapsed": false,
    "scrolled": true
   },
   "outputs": [
    {
     "name": "stdout",
     "output_type": "stream",
     "text": [
      "Training matrix shape (60000, 784)\n",
      "Testing matrix shape (10000, 784)\n"
     ]
    }
   ],
   "source": [
    "# Format the data for training\n",
    "X_train = X_train.reshape(60000, 784)\n",
    "X_test = X_test.reshape(10000, 784)\n",
    "X_train = X_train.astype('float32')\n",
    "X_test = X_test.astype('float32')\n",
    "X_train /= 255\n",
    "X_test /= 255\n",
    "print(\"Training matrix shape\", X_train.shape)\n",
    "print(\"Testing matrix shape\", X_test.shape)"
   ]
  },
  {
   "cell_type": "markdown",
   "metadata": {},
   "source": [
    "Modify the target matrices to be in the one-hot format"
   ]
  },
  {
   "cell_type": "code",
   "execution_count": 42,
   "metadata": {
    "collapsed": false
   },
   "outputs": [],
   "source": [
    "nb_classes = 10\n",
    "Y_train = np_utils.to_categorical(y_train, nb_classes)\n",
    "Y_test = np_utils.to_categorical(y_test, nb_classes)"
   ]
  },
  {
   "cell_type": "markdown",
   "metadata": {},
   "source": [
    "## Build the neural network"
   ]
  },
  {
   "cell_type": "code",
   "execution_count": 22,
   "metadata": {
    "collapsed": false
   },
   "outputs": [],
   "source": [
    "model = Sequential()"
   ]
  },
  {
   "cell_type": "code",
   "execution_count": 23,
   "metadata": {
    "collapsed": true
   },
   "outputs": [],
   "source": [
    "from keras.layers import Dense, Activation\n",
    "#first hidden layer\n",
    "model.add(Dense(output_dim =500,\n",
    "                input_dim = 28*28))\n",
    "model.add(Activation('sigmoid'))\n",
    "# second hidden layer\n",
    "model.add(Dense(output_dim = 500))\n",
    "model.add(Activation('sigmoid'))\n",
    "#output layer\n",
    "model.add(Dense(output_dim=10))\n",
    "model.add(Activation('softmax'))"
   ]
  },
  {
   "cell_type": "code",
   "execution_count": 33,
   "metadata": {
    "collapsed": false
   },
   "outputs": [],
   "source": [
    "from keras.optimizers import SGD\n",
    "model.compile(loss='mse',\n",
    "             optimizer=SGD(lr=0.1),\n",
    "             metrics=['accuracy'])"
   ]
  },
  {
   "cell_type": "code",
   "execution_count": 38,
   "metadata": {
    "collapsed": true
   },
   "outputs": [
    {
     "name": "stdout",
     "output_type": "stream",
     "text": [
      "Epoch 1/20\n",
      "60000/60000 [==============================] - 12s - loss: 0.0901 - acc: 0.1654    \n",
      "Epoch 2/20\n",
      "60000/60000 [==============================] - 11s - loss: 0.0893 - acc: 0.2350    \n",
      "Epoch 3/20\n",
      "60000/60000 [==============================] - 12s - loss: 0.0889 - acc: 0.2844    \n",
      "Epoch 4/20\n",
      "60000/60000 [==============================] - 11s - loss: 0.0884 - acc: 0.3054    \n",
      "Epoch 5/20\n",
      "60000/60000 [==============================] - 11s - loss: 0.0878 - acc: 0.3175    \n",
      "Epoch 6/20\n",
      "60000/60000 [==============================] - 11s - loss: 0.0872 - acc: 0.3224    \n",
      "Epoch 7/20\n",
      "60000/60000 [==============================] - 11s - loss: 0.0863 - acc: 0.3199    \n",
      "Epoch 8/20\n",
      "60000/60000 [==============================] - 11s - loss: 0.0853 - acc: 0.3157    \n",
      "Epoch 9/20\n",
      "60000/60000 [==============================] - 12s - loss: 0.0838 - acc: 0.3214    \n",
      "Epoch 10/20\n",
      "60000/60000 [==============================] - 12s - loss: 0.0819 - acc: 0.3315    \n",
      "Epoch 11/20\n",
      "60000/60000 [==============================] - 13s - loss: 0.0795 - acc: 0.3534    \n",
      "Epoch 12/20\n",
      "60000/60000 [==============================] - 12s - loss: 0.0766 - acc: 0.3897    \n",
      "Epoch 13/20\n",
      "60000/60000 [==============================] - 12s - loss: 0.0734 - acc: 0.4323    \n",
      "Epoch 14/20\n",
      "60000/60000 [==============================] - 12s - loss: 0.0701 - acc: 0.4653    \n",
      "Epoch 15/20\n",
      "60000/60000 [==============================] - 12s - loss: 0.0667 - acc: 0.5025    \n",
      "Epoch 16/20\n",
      "60000/60000 [==============================] - 12s - loss: 0.0632 - acc: 0.5481    \n",
      "Epoch 17/20\n",
      "60000/60000 [==============================] - 12s - loss: 0.0597 - acc: 0.5904    \n",
      "Epoch 18/20\n",
      "60000/60000 [==============================] - 12s - loss: 0.0562 - acc: 0.6266    \n",
      "Epoch 19/20\n",
      "60000/60000 [==============================] - 12s - loss: 0.0528 - acc: 0.6572    \n",
      "Epoch 20/20\n",
      "60000/60000 [==============================] - 13s - loss: 0.0496 - acc: 0.6861    \n"
     ]
    },
    {
     "data": {
      "text/plain": [
       "<keras.callbacks.History at 0x29b825534a8>"
      ]
     },
     "execution_count": 38,
     "metadata": {},
     "output_type": "execute_result"
    }
   ],
   "source": [
    "model.fit(X_train, Y_train, batch_size=100, nb_epoch=20)"
   ]
  },
  {
   "cell_type": "code",
   "execution_count": 39,
   "metadata": {
    "collapsed": false
   },
   "outputs": [
    {
     "name": "stdout",
     "output_type": "stream",
     "text": [
      " 9888/10000 [============================>.] - ETA: 0sTotal loss 0.0475304861486\n",
      "Accuracy 0.7011\n"
     ]
    }
   ],
   "source": [
    "score = model.evaluate(X_test,Y_test)\n",
    "print('Total loss',score[0])\n",
    "print('Accuracy',score[1])"
   ]
  },
  {
   "cell_type": "code",
   "execution_count": 40,
   "metadata": {
    "collapsed": true
   },
   "outputs": [],
   "source": [
    "result = model.predict(X_test)"
   ]
  },
  {
   "cell_type": "markdown",
   "metadata": {},
   "source": [
    "## Choosing Proper Loss\n"
   ]
  },
  {
   "cell_type": "code",
   "execution_count": 44,
   "metadata": {
    "collapsed": false
   },
   "outputs": [],
   "source": [
    "model2 = Sequential()\n",
    "#first hidden layer\n",
    "model2.add(Dense(output_dim =500,\n",
    "                input_dim = 28*28))\n",
    "model2.add(Activation('sigmoid'))\n",
    "# second hidden layer\n",
    "model2.add(Dense(output_dim = 500))\n",
    "model2.add(Activation('sigmoid'))\n",
    "#output layer\n",
    "model2.add(Dense(output_dim=10))\n",
    "model2.add(Activation('softmax'))\n",
    "\n",
    "model2.compile(loss='categorical_crossentropy',\n",
    "             optimizer=SGD(lr=0.1),\n",
    "             metrics=['accuracy'])"
   ]
  },
  {
   "cell_type": "code",
   "execution_count": 45,
   "metadata": {
    "collapsed": true
   },
   "outputs": [
    {
     "name": "stdout",
     "output_type": "stream",
     "text": [
      "Epoch 1/20\n",
      "60000/60000 [==============================] - 13s - loss: 1.4327 - acc: 0.5440    \n",
      "Epoch 2/20\n",
      "60000/60000 [==============================] - 12s - loss: 0.5089 - acc: 0.8536    \n",
      "Epoch 3/20\n",
      "60000/60000 [==============================] - 12s - loss: 0.3927 - acc: 0.8871    \n",
      "Epoch 4/20\n",
      "60000/60000 [==============================] - 12s - loss: 0.3527 - acc: 0.8983    \n",
      "Epoch 5/20\n",
      "60000/60000 [==============================] - 12s - loss: 0.3293 - acc: 0.9046    \n",
      "Epoch 6/20\n",
      "60000/60000 [==============================] - 13s - loss: 0.3145 - acc: 0.9079    \n",
      "Epoch 7/20\n",
      "60000/60000 [==============================] - 12s - loss: 0.3014 - acc: 0.9128    \n",
      "Epoch 8/20\n",
      "60000/60000 [==============================] - 13s - loss: 0.2919 - acc: 0.9147    \n",
      "Epoch 9/20\n",
      "60000/60000 [==============================] - 13s - loss: 0.2829 - acc: 0.9185    \n",
      "Epoch 10/20\n",
      "60000/60000 [==============================] - 12s - loss: 0.2749 - acc: 0.9198    \n",
      "Epoch 11/20\n",
      "60000/60000 [==============================] - 12s - loss: 0.2677 - acc: 0.9218    \n",
      "Epoch 12/20\n",
      "60000/60000 [==============================] - 12s - loss: 0.2597 - acc: 0.9244    \n",
      "Epoch 13/20\n",
      "60000/60000 [==============================] - 12s - loss: 0.2524 - acc: 0.9271    \n",
      "Epoch 14/20\n",
      "60000/60000 [==============================] - 12s - loss: 0.2449 - acc: 0.9289    \n",
      "Epoch 15/20\n",
      "60000/60000 [==============================] - 11s - loss: 0.2379 - acc: 0.9311    \n",
      "Epoch 16/20\n",
      "60000/60000 [==============================] - 12s - loss: 0.2304 - acc: 0.9340    \n",
      "Epoch 17/20\n",
      "60000/60000 [==============================] - 12s - loss: 0.2231 - acc: 0.9361    \n",
      "Epoch 18/20\n",
      "60000/60000 [==============================] - 12s - loss: 0.2159 - acc: 0.9380    \n",
      "Epoch 19/20\n",
      "60000/60000 [==============================] - 12s - loss: 0.2087 - acc: 0.9395    \n",
      "Epoch 20/20\n",
      "60000/60000 [==============================] - 12s - loss: 0.2017 - acc: 0.9418    \n"
     ]
    },
    {
     "data": {
      "text/plain": [
       "<keras.callbacks.History at 0x29b821da668>"
      ]
     },
     "execution_count": 45,
     "metadata": {},
     "output_type": "execute_result"
    }
   ],
   "source": [
    "model2.fit(X_train, Y_train, batch_size=100, nb_epoch=20)"
   ]
  },
  {
   "cell_type": "code",
   "execution_count": 46,
   "metadata": {
    "collapsed": false
   },
   "outputs": [
    {
     "name": "stdout",
     "output_type": "stream",
     "text": [
      " 9984/10000 [============================>.] - ETA: 0sTotal loss 0.198504713863\n",
      "Accuracy 0.9406\n"
     ]
    }
   ],
   "source": [
    "score2 = model2.evaluate(X_test,Y_test)\n",
    "print('Total loss',score2[0])\n",
    "print('Accuracy',score2[1])"
   ]
  },
  {
   "cell_type": "markdown",
   "metadata": {},
   "source": [
    "## Use ReLU for activation\n",
    "1. Fast to compute\n",
    "2. Biological reason\n",
    "3. Infinite Sigmoid with different biases\n",
    "4. No vanishing gradient problem"
   ]
  },
  {
   "cell_type": "code",
   "execution_count": 51,
   "metadata": {
    "collapsed": true
   },
   "outputs": [],
   "source": [
    "model3 = Sequential()\n",
    "#first hidden layer\n",
    "model3.add(Dense(output_dim =500,\n",
    "                input_dim = 28*28))\n",
    "model3.add(Activation('relu'))\n",
    "# second hidden layer\n",
    "model3.add(Dense(output_dim = 500))\n",
    "model3.add(Activation('relu'))\n",
    "#output layer\n",
    "model3.add(Dense(output_dim=10))\n",
    "model3.add(Activation('softmax'))\n",
    "\n",
    "model3.compile(loss='categorical_crossentropy',\n",
    "             optimizer=SGD(lr=0.1),\n",
    "             metrics=['accuracy'])"
   ]
  },
  {
   "cell_type": "code",
   "execution_count": 52,
   "metadata": {
    "collapsed": false,
    "scrolled": true
   },
   "outputs": [
    {
     "name": "stdout",
     "output_type": "stream",
     "text": [
      "Epoch 1/20\n",
      "60000/60000 [==============================] - 11s - loss: 0.3738 - acc: 0.8961    \n",
      "Epoch 2/20\n",
      "60000/60000 [==============================] - 11s - loss: 0.1721 - acc: 0.9500    \n",
      "Epoch 3/20\n",
      "60000/60000 [==============================] - 13s - loss: 0.1225 - acc: 0.9646    \n",
      "Epoch 4/20\n",
      "60000/60000 [==============================] - 15s - loss: 0.0947 - acc: 0.9722    \n",
      "Epoch 5/20\n",
      "60000/60000 [==============================] - 12s - loss: 0.0755 - acc: 0.9782    \n",
      "Epoch 6/20\n",
      "60000/60000 [==============================] - 13s - loss: 0.0619 - acc: 0.9824    \n",
      "Epoch 7/20\n",
      "60000/60000 [==============================] - 13s - loss: 0.0517 - acc: 0.9854    \n",
      "Epoch 8/20\n",
      "60000/60000 [==============================] - 12s - loss: 0.0440 - acc: 0.9881    \n",
      "Epoch 9/20\n",
      "60000/60000 [==============================] - 12s - loss: 0.0372 - acc: 0.9896    \n",
      "Epoch 10/20\n",
      "60000/60000 [==============================] - 12s - loss: 0.0315 - acc: 0.9913    \n",
      "Epoch 11/20\n",
      "60000/60000 [==============================] - 12s - loss: 0.0265 - acc: 0.9935    \n",
      "Epoch 12/20\n",
      "60000/60000 [==============================] - 11s - loss: 0.0232 - acc: 0.9943    \n",
      "Epoch 13/20\n",
      "60000/60000 [==============================] - 12s - loss: 0.0187 - acc: 0.9959    \n",
      "Epoch 14/20\n",
      "60000/60000 [==============================] - 12s - loss: 0.0161 - acc: 0.9966    \n",
      "Epoch 15/20\n",
      "60000/60000 [==============================] - 12s - loss: 0.0136 - acc: 0.9977    \n",
      "Epoch 16/20\n",
      "60000/60000 [==============================] - 11s - loss: 0.0116 - acc: 0.9982    \n",
      "Epoch 17/20\n",
      "60000/60000 [==============================] - 12s - loss: 0.0099 - acc: 0.9986    \n",
      "Epoch 18/20\n",
      "60000/60000 [==============================] - 11s - loss: 0.0086 - acc: 0.9990    \n",
      "Epoch 19/20\n",
      "60000/60000 [==============================] - 11s - loss: 0.0075 - acc: 0.9992    \n",
      "Epoch 20/20\n",
      "60000/60000 [==============================] - 11s - loss: 0.0066 - acc: 0.9993    \n"
     ]
    },
    {
     "data": {
      "text/plain": [
       "<keras.callbacks.History at 0x29b8460c8d0>"
      ]
     },
     "execution_count": 52,
     "metadata": {},
     "output_type": "execute_result"
    }
   ],
   "source": [
    "model3.fit(X_train, Y_train, batch_size=100, nb_epoch=20)"
   ]
  },
  {
   "cell_type": "code",
   "execution_count": 53,
   "metadata": {
    "collapsed": false
   },
   "outputs": [
    {
     "name": "stdout",
     "output_type": "stream",
     "text": [
      " 9440/10000 [===========================>..] - ETA: 0sTotal loss 0.0665161309587\n",
      "Accuracy 0.9806\n"
     ]
    }
   ],
   "source": [
    "score3 = model3.evaluate(X_test,Y_test)\n",
    "print('Total loss',score3[0])\n",
    "print('Accuracy',score3[1])"
   ]
  },
  {
   "cell_type": "code",
   "execution_count": null,
   "metadata": {
    "collapsed": true
   },
   "outputs": [],
   "source": []
  }
 ],
 "metadata": {
  "anaconda-cloud": {},
  "kernelspec": {
   "display_name": "Python [default]",
   "language": "python",
   "name": "python3"
  },
  "language_info": {
   "codemirror_mode": {
    "name": "ipython",
    "version": 3
   },
   "file_extension": ".py",
   "mimetype": "text/x-python",
   "name": "python",
   "nbconvert_exporter": "python",
   "pygments_lexer": "ipython3",
   "version": "3.5.2"
  }
 },
 "nbformat": 4,
 "nbformat_minor": 1
}
